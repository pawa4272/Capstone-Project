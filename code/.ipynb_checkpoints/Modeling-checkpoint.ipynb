{
 "cells": [
  {
   "cell_type": "code",
   "execution_count": 1,
   "metadata": {},
   "outputs": [],
   "source": [
    "import pandas as pd\n",
    "import matplotlib.pyplot as plt\n",
    "import numpy as np\n",
    "import pickle\n",
    "\n",
    "import seaborn as sns \n",
    "\n",
    "from sklearn.preprocessing import StandardScaler, PowerTransformer\n",
    "from sklearn.model_selection import train_test_split, cross_val_score, GridSearchCV\n",
    "from sklearn.linear_model import LogisticRegression\n",
    "from sklearn.tree import DecisionTreeClassifier\n",
    "from sklearn.ensemble import BaggingClassifier, AdaBoostClassifier, RandomForestClassifier\n",
    "from sklearn.neighbors import KNeighborsClassifier\n",
    "from sklearn import metrics\n",
    "from imblearn.over_sampling import SMOTE\n",
    "from sklearn.metrics import confusion_matrix, classification_report, accuracy_score, plot_confusion_matrix, f1_score\n",
    "from imblearn.under_sampling import RandomUnderSampler\n",
    "\n",
    "\n",
    "pd.set_option('display.max_rows', 500)"
   ]
  },
  {
   "cell_type": "markdown",
   "metadata": {},
   "source": [
    "# Load Data file"
   ]
  },
  {
   "cell_type": "code",
   "execution_count": 2,
   "metadata": {},
   "outputs": [],
   "source": [
    "# Read the pickle file\n",
    "with open('../data/instacart_data.pkl', 'rb') as pickle_in:\n",
    "    df = pickle.load(pickle_in)"
   ]
  },
  {
   "cell_type": "code",
   "execution_count": 3,
   "metadata": {},
   "outputs": [
    {
     "data": {
      "text/html": [
       "<div>\n",
       "<style scoped>\n",
       "    .dataframe tbody tr th:only-of-type {\n",
       "        vertical-align: middle;\n",
       "    }\n",
       "\n",
       "    .dataframe tbody tr th {\n",
       "        vertical-align: top;\n",
       "    }\n",
       "\n",
       "    .dataframe thead th {\n",
       "        text-align: right;\n",
       "    }\n",
       "</style>\n",
       "<table border=\"1\" class=\"dataframe\">\n",
       "  <thead>\n",
       "    <tr style=\"text-align: right;\">\n",
       "      <th></th>\n",
       "      <th>user_product</th>\n",
       "      <th>department</th>\n",
       "      <th>user_id</th>\n",
       "      <th>product_id</th>\n",
       "      <th>times_ordered</th>\n",
       "      <th>total_orders</th>\n",
       "      <th>pct_reorder</th>\n",
       "      <th>min_days_bet</th>\n",
       "      <th>max_days_bet</th>\n",
       "      <th>avg_days_bet</th>\n",
       "      <th>...</th>\n",
       "      <th>last5_total_orders</th>\n",
       "      <th>last5_pct_order</th>\n",
       "      <th>min_days_5odrs</th>\n",
       "      <th>max_days_5odrs</th>\n",
       "      <th>avg_days_5odrs</th>\n",
       "      <th>min_reorder_5days</th>\n",
       "      <th>max_reorder_5days</th>\n",
       "      <th>avg_reorder_5days</th>\n",
       "      <th>avg_items_ordered</th>\n",
       "      <th>last5_avg_items</th>\n",
       "    </tr>\n",
       "  </thead>\n",
       "  <tbody>\n",
       "    <tr>\n",
       "      <th>0</th>\n",
       "      <td>1-196</td>\n",
       "      <td>beverages</td>\n",
       "      <td>1</td>\n",
       "      <td>196</td>\n",
       "      <td>10</td>\n",
       "      <td>10</td>\n",
       "      <td>1.0</td>\n",
       "      <td>0.0</td>\n",
       "      <td>30.0</td>\n",
       "      <td>19.0</td>\n",
       "      <td>...</td>\n",
       "      <td>5.0</td>\n",
       "      <td>1.0</td>\n",
       "      <td>0.0</td>\n",
       "      <td>30.0</td>\n",
       "      <td>16.0</td>\n",
       "      <td>0.0</td>\n",
       "      <td>30.0</td>\n",
       "      <td>16.0</td>\n",
       "      <td>5.0</td>\n",
       "      <td>6.0</td>\n",
       "    </tr>\n",
       "    <tr>\n",
       "      <th>1</th>\n",
       "      <td>1-10258</td>\n",
       "      <td>snacks</td>\n",
       "      <td>1</td>\n",
       "      <td>10258</td>\n",
       "      <td>9</td>\n",
       "      <td>10</td>\n",
       "      <td>0.9</td>\n",
       "      <td>0.0</td>\n",
       "      <td>30.0</td>\n",
       "      <td>19.0</td>\n",
       "      <td>...</td>\n",
       "      <td>5.0</td>\n",
       "      <td>1.0</td>\n",
       "      <td>0.0</td>\n",
       "      <td>30.0</td>\n",
       "      <td>16.0</td>\n",
       "      <td>0.0</td>\n",
       "      <td>30.0</td>\n",
       "      <td>16.0</td>\n",
       "      <td>5.0</td>\n",
       "      <td>6.0</td>\n",
       "    </tr>\n",
       "    <tr>\n",
       "      <th>2</th>\n",
       "      <td>1-10326</td>\n",
       "      <td>produce</td>\n",
       "      <td>1</td>\n",
       "      <td>10326</td>\n",
       "      <td>1</td>\n",
       "      <td>10</td>\n",
       "      <td>0.1</td>\n",
       "      <td>0.0</td>\n",
       "      <td>30.0</td>\n",
       "      <td>19.0</td>\n",
       "      <td>...</td>\n",
       "      <td>NaN</td>\n",
       "      <td>NaN</td>\n",
       "      <td>NaN</td>\n",
       "      <td>NaN</td>\n",
       "      <td>NaN</td>\n",
       "      <td>NaN</td>\n",
       "      <td>NaN</td>\n",
       "      <td>NaN</td>\n",
       "      <td>5.0</td>\n",
       "      <td>6.0</td>\n",
       "    </tr>\n",
       "    <tr>\n",
       "      <th>3</th>\n",
       "      <td>1-12427</td>\n",
       "      <td>snacks</td>\n",
       "      <td>1</td>\n",
       "      <td>12427</td>\n",
       "      <td>10</td>\n",
       "      <td>10</td>\n",
       "      <td>1.0</td>\n",
       "      <td>0.0</td>\n",
       "      <td>30.0</td>\n",
       "      <td>19.0</td>\n",
       "      <td>...</td>\n",
       "      <td>5.0</td>\n",
       "      <td>1.0</td>\n",
       "      <td>0.0</td>\n",
       "      <td>30.0</td>\n",
       "      <td>16.0</td>\n",
       "      <td>0.0</td>\n",
       "      <td>30.0</td>\n",
       "      <td>16.0</td>\n",
       "      <td>5.0</td>\n",
       "      <td>6.0</td>\n",
       "    </tr>\n",
       "    <tr>\n",
       "      <th>4</th>\n",
       "      <td>1-13032</td>\n",
       "      <td>breakfast</td>\n",
       "      <td>1</td>\n",
       "      <td>13032</td>\n",
       "      <td>3</td>\n",
       "      <td>10</td>\n",
       "      <td>0.3</td>\n",
       "      <td>0.0</td>\n",
       "      <td>30.0</td>\n",
       "      <td>19.0</td>\n",
       "      <td>...</td>\n",
       "      <td>5.0</td>\n",
       "      <td>0.4</td>\n",
       "      <td>0.0</td>\n",
       "      <td>30.0</td>\n",
       "      <td>16.0</td>\n",
       "      <td>44.0</td>\n",
       "      <td>44.0</td>\n",
       "      <td>44.0</td>\n",
       "      <td>5.0</td>\n",
       "      <td>6.0</td>\n",
       "    </tr>\n",
       "  </tbody>\n",
       "</table>\n",
       "<p>5 rows × 25 columns</p>\n",
       "</div>"
      ],
      "text/plain": [
       "  user_product department  user_id  product_id  times_ordered  total_orders  \\\n",
       "0        1-196  beverages        1         196             10            10   \n",
       "1      1-10258     snacks        1       10258              9            10   \n",
       "2      1-10326    produce        1       10326              1            10   \n",
       "3      1-12427     snacks        1       12427             10            10   \n",
       "4      1-13032  breakfast        1       13032              3            10   \n",
       "\n",
       "   pct_reorder  min_days_bet  max_days_bet  avg_days_bet  ...  \\\n",
       "0          1.0           0.0          30.0          19.0  ...   \n",
       "1          0.9           0.0          30.0          19.0  ...   \n",
       "2          0.1           0.0          30.0          19.0  ...   \n",
       "3          1.0           0.0          30.0          19.0  ...   \n",
       "4          0.3           0.0          30.0          19.0  ...   \n",
       "\n",
       "   last5_total_orders  last5_pct_order  min_days_5odrs  max_days_5odrs  \\\n",
       "0                 5.0              1.0             0.0            30.0   \n",
       "1                 5.0              1.0             0.0            30.0   \n",
       "2                 NaN              NaN             NaN             NaN   \n",
       "3                 5.0              1.0             0.0            30.0   \n",
       "4                 5.0              0.4             0.0            30.0   \n",
       "\n",
       "   avg_days_5odrs  min_reorder_5days  max_reorder_5days  avg_reorder_5days  \\\n",
       "0            16.0                0.0               30.0               16.0   \n",
       "1            16.0                0.0               30.0               16.0   \n",
       "2             NaN                NaN                NaN                NaN   \n",
       "3            16.0                0.0               30.0               16.0   \n",
       "4            16.0               44.0               44.0               44.0   \n",
       "\n",
       "   avg_items_ordered  last5_avg_items  \n",
       "0                5.0              6.0  \n",
       "1                5.0              6.0  \n",
       "2                5.0              6.0  \n",
       "3                5.0              6.0  \n",
       "4                5.0              6.0  \n",
       "\n",
       "[5 rows x 25 columns]"
      ]
     },
     "execution_count": 3,
     "metadata": {},
     "output_type": "execute_result"
    }
   ],
   "source": [
    "df.head()"
   ]
  },
  {
   "cell_type": "code",
   "execution_count": 68,
   "metadata": {},
   "outputs": [],
   "source": [
    "# Drop user_id and product_id columns\n",
    "df.drop(columns=['user_id', 'product_id'], axis=1, inplace=True)"
   ]
  },
  {
   "cell_type": "code",
   "execution_count": 69,
   "metadata": {},
   "outputs": [],
   "source": [
    "# Set the index to user_product\n",
    "df.set_index('user_product', inplace=True)"
   ]
  },
  {
   "cell_type": "code",
   "execution_count": 70,
   "metadata": {},
   "outputs": [
    {
     "data": {
      "text/html": [
       "<div>\n",
       "<style scoped>\n",
       "    .dataframe tbody tr th:only-of-type {\n",
       "        vertical-align: middle;\n",
       "    }\n",
       "\n",
       "    .dataframe tbody tr th {\n",
       "        vertical-align: top;\n",
       "    }\n",
       "\n",
       "    .dataframe thead th {\n",
       "        text-align: right;\n",
       "    }\n",
       "</style>\n",
       "<table border=\"1\" class=\"dataframe\">\n",
       "  <thead>\n",
       "    <tr style=\"text-align: right;\">\n",
       "      <th></th>\n",
       "      <th>department</th>\n",
       "      <th>times_ordered</th>\n",
       "      <th>total_orders</th>\n",
       "      <th>pct_reorder</th>\n",
       "      <th>min_days_bet</th>\n",
       "      <th>max_days_bet</th>\n",
       "      <th>avg_days_bet</th>\n",
       "      <th>min_reorder_days</th>\n",
       "      <th>max_reorder_days</th>\n",
       "      <th>avg_reorder_days</th>\n",
       "      <th>...</th>\n",
       "      <th>last5_total_orders</th>\n",
       "      <th>last5_pct_order</th>\n",
       "      <th>min_days_5odrs</th>\n",
       "      <th>max_days_5odrs</th>\n",
       "      <th>avg_days_5odrs</th>\n",
       "      <th>min_reorder_5days</th>\n",
       "      <th>max_reorder_5days</th>\n",
       "      <th>avg_reorder_5days</th>\n",
       "      <th>avg_items_ordered</th>\n",
       "      <th>last5_avg_items</th>\n",
       "    </tr>\n",
       "    <tr>\n",
       "      <th>user_product</th>\n",
       "      <th></th>\n",
       "      <th></th>\n",
       "      <th></th>\n",
       "      <th></th>\n",
       "      <th></th>\n",
       "      <th></th>\n",
       "      <th></th>\n",
       "      <th></th>\n",
       "      <th></th>\n",
       "      <th></th>\n",
       "      <th></th>\n",
       "      <th></th>\n",
       "      <th></th>\n",
       "      <th></th>\n",
       "      <th></th>\n",
       "      <th></th>\n",
       "      <th></th>\n",
       "      <th></th>\n",
       "      <th></th>\n",
       "      <th></th>\n",
       "      <th></th>\n",
       "    </tr>\n",
       "  </thead>\n",
       "  <tbody>\n",
       "    <tr>\n",
       "      <th>130210-10467</th>\n",
       "      <td>canned goods</td>\n",
       "      <td>2</td>\n",
       "      <td>13</td>\n",
       "      <td>0.153846</td>\n",
       "      <td>2.0</td>\n",
       "      <td>12.0</td>\n",
       "      <td>5.538462</td>\n",
       "      <td>28.0</td>\n",
       "      <td>28.0</td>\n",
       "      <td>28.0</td>\n",
       "      <td>...</td>\n",
       "      <td>0.0</td>\n",
       "      <td>0.0</td>\n",
       "      <td>0.0</td>\n",
       "      <td>0.0</td>\n",
       "      <td>0.0</td>\n",
       "      <td>0.0</td>\n",
       "      <td>0.0</td>\n",
       "      <td>0.0</td>\n",
       "      <td>14.0</td>\n",
       "      <td>16.0</td>\n",
       "    </tr>\n",
       "    <tr>\n",
       "      <th>204138-1405</th>\n",
       "      <td>snacks</td>\n",
       "      <td>1</td>\n",
       "      <td>6</td>\n",
       "      <td>0.166667</td>\n",
       "      <td>3.0</td>\n",
       "      <td>30.0</td>\n",
       "      <td>23.166667</td>\n",
       "      <td>0.0</td>\n",
       "      <td>0.0</td>\n",
       "      <td>0.0</td>\n",
       "      <td>...</td>\n",
       "      <td>5.0</td>\n",
       "      <td>0.2</td>\n",
       "      <td>3.0</td>\n",
       "      <td>30.0</td>\n",
       "      <td>21.0</td>\n",
       "      <td>0.0</td>\n",
       "      <td>0.0</td>\n",
       "      <td>0.0</td>\n",
       "      <td>7.0</td>\n",
       "      <td>7.0</td>\n",
       "    </tr>\n",
       "  </tbody>\n",
       "</table>\n",
       "<p>2 rows × 22 columns</p>\n",
       "</div>"
      ],
      "text/plain": [
       "                department  times_ordered  total_orders  pct_reorder  \\\n",
       "user_product                                                           \n",
       "130210-10467  canned goods              2            13     0.153846   \n",
       "204138-1405         snacks              1             6     0.166667   \n",
       "\n",
       "              min_days_bet  max_days_bet  avg_days_bet  min_reorder_days  \\\n",
       "user_product                                                               \n",
       "130210-10467           2.0          12.0      5.538462              28.0   \n",
       "204138-1405            3.0          30.0     23.166667               0.0   \n",
       "\n",
       "              max_reorder_days  avg_reorder_days  ...  last5_total_orders  \\\n",
       "user_product                                      ...                       \n",
       "130210-10467              28.0              28.0  ...                 0.0   \n",
       "204138-1405                0.0               0.0  ...                 5.0   \n",
       "\n",
       "              last5_pct_order  min_days_5odrs  max_days_5odrs  avg_days_5odrs  \\\n",
       "user_product                                                                    \n",
       "130210-10467              0.0             0.0             0.0             0.0   \n",
       "204138-1405               0.2             3.0            30.0            21.0   \n",
       "\n",
       "              min_reorder_5days  max_reorder_5days  avg_reorder_5days  \\\n",
       "user_product                                                            \n",
       "130210-10467                0.0                0.0                0.0   \n",
       "204138-1405                 0.0                0.0                0.0   \n",
       "\n",
       "              avg_items_ordered  last5_avg_items  \n",
       "user_product                                      \n",
       "130210-10467               14.0             16.0  \n",
       "204138-1405                 7.0              7.0  \n",
       "\n",
       "[2 rows x 22 columns]"
      ]
     },
     "execution_count": 70,
     "metadata": {},
     "output_type": "execute_result"
    }
   ],
   "source": [
    "df.head(2)"
   ]
  },
  {
   "cell_type": "code",
   "execution_count": 4,
   "metadata": {},
   "outputs": [
    {
     "data": {
      "image/png": "[encoded data removed]",
      "text/plain": [
       "<Figure size 360x720 with 2 Axes>"
      ]
     },
     "metadata": {
      "needs_background": "light"
     },
     "output_type": "display_data"
    }
   ],
   "source": [
    "plt.figure(figsize = (5, 10))\n",
    "corr = df.drop(columns = ['user_id', 'product_id']).corr()\n",
    "sns.heatmap(corr[['target']].sort_values('target', ascending = False), vmin = -1, vmax = 1, cmap = 'coolwarm', annot = True )\n",
    "plt.title('Correlations');"
   ]
  },
  {
   "cell_type": "code",
   "execution_count": 5,
   "metadata": {},
   "outputs": [
    {
     "name": "stdout",
     "output_type": "stream",
     "text": [
      "<class 'pandas.core.frame.DataFrame'>\n",
      "RangeIndex: 13307953 entries, 0 to 13307952\n",
      "Data columns (total 25 columns):\n",
      " #   Column                Dtype  \n",
      "---  ------                -----  \n",
      " 0   user_product          object \n",
      " 1   department            object \n",
      " 2   user_id               int64  \n",
      " 3   product_id            int64  \n",
      " 4   times_ordered         int64  \n",
      " 5   total_orders          int64  \n",
      " 6   pct_reorder           float64\n",
      " 7   min_days_bet          float64\n",
      " 8   max_days_bet          float64\n",
      " 9   avg_days_bet          float64\n",
      " 10  min_reorder_days      float64\n",
      " 11  max_reorder_days      float64\n",
      " 12  avg_reorder_days      float64\n",
      " 13  target                int64  \n",
      " 14  last5_times_item_pur  float64\n",
      " 15  last5_total_orders    float64\n",
      " 16  last5_pct_order       float64\n",
      " 17  min_days_5odrs        float64\n",
      " 18  max_days_5odrs        float64\n",
      " 19  avg_days_5odrs        float64\n",
      " 20  min_reorder_5days     float64\n",
      " 21  max_reorder_5days     float64\n",
      " 22  avg_reorder_5days     float64\n",
      " 23  avg_items_ordered     float64\n",
      " 24  last5_avg_items       float64\n",
      "dtypes: float64(18), int64(5), object(2)\n",
      "memory usage: 2.5+ GB\n"
     ]
    }
   ],
   "source": [
    "df.info()"
   ]
  },
  {
   "cell_type": "code",
   "execution_count": 6,
   "metadata": {},
   "outputs": [
    {
     "data": {
      "text/plain": [
       "user_product                   0\n",
       "department                     0\n",
       "user_id                        0\n",
       "product_id                     0\n",
       "times_ordered                  0\n",
       "total_orders                   0\n",
       "pct_reorder                    0\n",
       "min_days_bet                   0\n",
       "max_days_bet                   0\n",
       "avg_days_bet                   0\n",
       "min_reorder_days         7982695\n",
       "max_reorder_days         7982695\n",
       "avg_reorder_days         7982695\n",
       "target                         0\n",
       "last5_times_item_pur     6593708\n",
       "last5_total_orders       6593708\n",
       "last5_pct_order          6593708\n",
       "min_days_5odrs           6593708\n",
       "max_days_5odrs           6593708\n",
       "avg_days_5odrs           6593708\n",
       "min_reorder_5days       11370213\n",
       "max_reorder_5days       11370213\n",
       "avg_reorder_5days       11370213\n",
       "avg_items_ordered              0\n",
       "last5_avg_items                0\n",
       "dtype: int64"
      ]
     },
     "execution_count": 6,
     "metadata": {},
     "output_type": "execute_result"
    }
   ],
   "source": [
    "df.isnull().sum()"
   ]
  },
  {
   "cell_type": "code",
   "execution_count": 7,
   "metadata": {},
   "outputs": [],
   "source": [
    "# Replace all NaN values with 0\n",
    "df = df.replace(np.nan, 0)"
   ]
  },
  {
   "cell_type": "code",
   "execution_count": 8,
   "metadata": {},
   "outputs": [
    {
     "data": {
      "text/plain": [
       "user_product            0\n",
       "department              0\n",
       "user_id                 0\n",
       "product_id              0\n",
       "times_ordered           0\n",
       "total_orders            0\n",
       "pct_reorder             0\n",
       "min_days_bet            0\n",
       "max_days_bet            0\n",
       "avg_days_bet            0\n",
       "min_reorder_days        0\n",
       "max_reorder_days        0\n",
       "avg_reorder_days        0\n",
       "target                  0\n",
       "last5_times_item_pur    0\n",
       "last5_total_orders      0\n",
       "last5_pct_order         0\n",
       "min_days_5odrs          0\n",
       "max_days_5odrs          0\n",
       "avg_days_5odrs          0\n",
       "min_reorder_5days       0\n",
       "max_reorder_5days       0\n",
       "avg_reorder_5days       0\n",
       "avg_items_ordered       0\n",
       "last5_avg_items         0\n",
       "dtype: int64"
      ]
     },
     "execution_count": 8,
     "metadata": {},
     "output_type": "execute_result"
    }
   ],
   "source": [
    "df.isnull().sum()"
   ]
  },
  {
   "cell_type": "code",
   "execution_count": 9,
   "metadata": {},
   "outputs": [
    {
     "data": {
      "text/plain": [
       "Index(['user_product', 'department', 'user_id', 'product_id', 'times_ordered',\n",
       "       'total_orders', 'pct_reorder', 'min_days_bet', 'max_days_bet',\n",
       "       'avg_days_bet', 'min_reorder_days', 'max_reorder_days',\n",
       "       'avg_reorder_days', 'target', 'last5_times_item_pur',\n",
       "       'last5_total_orders', 'last5_pct_order', 'min_days_5odrs',\n",
       "       'max_days_5odrs', 'avg_days_5odrs', 'min_reorder_5days',\n",
       "       'max_reorder_5days', 'avg_reorder_5days', 'avg_items_ordered',\n",
       "       'last5_avg_items'],\n",
       "      dtype='object')"
      ]
     },
     "execution_count": 9,
     "metadata": {},
     "output_type": "execute_result"
    }
   ],
   "source": [
    "df.columns"
   ]
  },
  {
   "cell_type": "code",
   "execution_count": 66,
   "metadata": {},
   "outputs": [],
   "source": [
    "# Set up the features to for modeling"
   ]
  },
  {
   "cell_type": "code",
   "execution_count": 10,
   "metadata": {},
   "outputs": [],
   "source": [
    "features = ['times_ordered',\n",
    "       'total_orders', 'pct_reorder', 'min_days_bet', 'max_days_bet',\n",
    "       'avg_days_bet', 'min_reorder_days', 'max_reorder_days',\n",
    "       'avg_reorder_days', 'last5_times_item_pur',\n",
    "       'last5_total_orders', 'last5_pct_order', 'min_days_5odrs',\n",
    "       'max_days_5odrs', 'avg_days_5odrs', 'min_reorder_5days',\n",
    "       'max_reorder_5days', 'avg_reorder_5days', 'avg_items_ordered',\n",
    "       'last5_avg_items']"
   ]
  },
  {
   "cell_type": "code",
   "execution_count": 11,
   "metadata": {},
   "outputs": [],
   "source": [
    "features2 = ['pct_reorder', 'min_days_bet', 'max_days_bet',\n",
    "       'avg_days_bet', 'min_reorder_days', 'max_reorder_days',\n",
    "       'avg_reorder_days', 'last5_pct_order', 'min_days_5odrs',\n",
    "       'max_days_5odrs', 'avg_days_5odrs', 'min_reorder_5days',\n",
    "       'max_reorder_5days', 'avg_reorder_5days', 'avg_items_ordered',\n",
    "       'last5_avg_items', 'department']"
   ]
  },
  {
   "cell_type": "code",
   "execution_count": 12,
   "metadata": {},
   "outputs": [],
   "source": [
    "features3 = ['pct_reorder', 'last5_pct_order', 'min_days_5odrs',\n",
    "       'max_days_5odrs', 'avg_days_5odrs', 'min_reorder_5days',\n",
    "       'max_reorder_5days', 'avg_reorder_5days',\n",
    "       'last5_avg_items', 'department']"
   ]
  },
  {
   "cell_type": "code",
   "execution_count": 11,
   "metadata": {},
   "outputs": [
    {
     "data": {
      "text/html": [
       "<div>\n",
       "<style scoped>\n",
       "    .dataframe tbody tr th:only-of-type {\n",
       "        vertical-align: middle;\n",
       "    }\n",
       "\n",
       "    .dataframe tbody tr th {\n",
       "        vertical-align: top;\n",
       "    }\n",
       "\n",
       "    .dataframe thead th {\n",
       "        text-align: right;\n",
       "    }\n",
       "</style>\n",
       "<table border=\"1\" class=\"dataframe\">\n",
       "  <thead>\n",
       "    <tr style=\"text-align: right;\">\n",
       "      <th></th>\n",
       "      <th>user_id</th>\n",
       "      <th>product_id</th>\n",
       "      <th>times_ordered</th>\n",
       "      <th>total_orders</th>\n",
       "      <th>pct_reorder</th>\n",
       "      <th>min_days_bet</th>\n",
       "      <th>max_days_bet</th>\n",
       "      <th>avg_days_bet</th>\n",
       "      <th>min_reorder_days</th>\n",
       "      <th>max_reorder_days</th>\n",
       "      <th>...</th>\n",
       "      <th>last5_total_orders</th>\n",
       "      <th>last5_pct_order</th>\n",
       "      <th>min_days_5odrs</th>\n",
       "      <th>max_days_5odrs</th>\n",
       "      <th>avg_days_5odrs</th>\n",
       "      <th>min_reorder_5days</th>\n",
       "      <th>max_reorder_5days</th>\n",
       "      <th>avg_reorder_5days</th>\n",
       "      <th>avg_items_ordered</th>\n",
       "      <th>last5_avg_items</th>\n",
       "    </tr>\n",
       "  </thead>\n",
       "  <tbody>\n",
       "    <tr>\n",
       "      <th>count</th>\n",
       "      <td>1.330795e+07</td>\n",
       "      <td>1.330795e+07</td>\n",
       "      <td>1.330795e+07</td>\n",
       "      <td>1.330795e+07</td>\n",
       "      <td>1.330795e+07</td>\n",
       "      <td>1.330795e+07</td>\n",
       "      <td>1.330795e+07</td>\n",
       "      <td>1.330795e+07</td>\n",
       "      <td>1.330795e+07</td>\n",
       "      <td>1.330795e+07</td>\n",
       "      <td>...</td>\n",
       "      <td>1.330795e+07</td>\n",
       "      <td>1.330795e+07</td>\n",
       "      <td>1.330795e+07</td>\n",
       "      <td>1.330795e+07</td>\n",
       "      <td>1.330795e+07</td>\n",
       "      <td>1.330795e+07</td>\n",
       "      <td>1.330795e+07</td>\n",
       "      <td>1.330795e+07</td>\n",
       "      <td>1.330795e+07</td>\n",
       "      <td>1.330795e+07</td>\n",
       "    </tr>\n",
       "    <tr>\n",
       "      <th>mean</th>\n",
       "      <td>1.029987e+05</td>\n",
       "      <td>2.551351e+04</td>\n",
       "      <td>2.437226e+00</td>\n",
       "      <td>2.538019e+01</td>\n",
       "      <td>1.542015e-01</td>\n",
       "      <td>3.776690e+00</td>\n",
       "      <td>2.657565e+01</td>\n",
       "      <td>1.283433e+01</td>\n",
       "      <td>1.236982e+01</td>\n",
       "      <td>2.433866e+01</td>\n",
       "      <td>...</td>\n",
       "      <td>2.398653e+00</td>\n",
       "      <td>1.579592e-01</td>\n",
       "      <td>4.098218e+00</td>\n",
       "      <td>1.131039e+01</td>\n",
       "      <td>7.676283e+00</td>\n",
       "      <td>2.883439e+00</td>\n",
       "      <td>3.670918e+00</td>\n",
       "      <td>3.267203e+00</td>\n",
       "      <td>1.224318e+01</td>\n",
       "      <td>1.276982e+01</td>\n",
       "    </tr>\n",
       "    <tr>\n",
       "      <th>std</th>\n",
       "      <td>5.943677e+04</td>\n",
       "      <td>1.422429e+04</td>\n",
       "      <td>3.554528e+00</td>\n",
       "      <td>2.228080e+01</td>\n",
       "      <td>1.645884e-01</td>\n",
       "      <td>5.102299e+00</td>\n",
       "      <td>6.102046e+00</td>\n",
       "      <td>6.399232e+00</td>\n",
       "      <td>3.141338e+01</td>\n",
       "      <td>4.499039e+01</td>\n",
       "      <td>...</td>\n",
       "      <td>2.413698e+00</td>\n",
       "      <td>2.042882e-01</td>\n",
       "      <td>6.502440e+00</td>\n",
       "      <td>1.287494e+01</td>\n",
       "      <td>9.270063e+00</td>\n",
       "      <td>9.673783e+00</td>\n",
       "      <td>1.120417e+01</td>\n",
       "      <td>1.022962e+01</td>\n",
       "      <td>6.307086e+00</td>\n",
       "      <td>7.022815e+00</td>\n",
       "    </tr>\n",
       "    <tr>\n",
       "      <th>min</th>\n",
       "      <td>1.000000e+00</td>\n",
       "      <td>1.000000e+00</td>\n",
       "      <td>1.000000e+00</td>\n",
       "      <td>3.000000e+00</td>\n",
       "      <td>1.010101e-02</td>\n",
       "      <td>0.000000e+00</td>\n",
       "      <td>0.000000e+00</td>\n",
       "      <td>0.000000e+00</td>\n",
       "      <td>0.000000e+00</td>\n",
       "      <td>0.000000e+00</td>\n",
       "      <td>...</td>\n",
       "      <td>0.000000e+00</td>\n",
       "      <td>0.000000e+00</td>\n",
       "      <td>0.000000e+00</td>\n",
       "      <td>0.000000e+00</td>\n",
       "      <td>0.000000e+00</td>\n",
       "      <td>0.000000e+00</td>\n",
       "      <td>0.000000e+00</td>\n",
       "      <td>0.000000e+00</td>\n",
       "      <td>1.000000e+00</td>\n",
       "      <td>1.000000e+00</td>\n",
       "    </tr>\n",
       "    <tr>\n",
       "      <th>25%</th>\n",
       "      <td>5.157900e+04</td>\n",
       "      <td>1.329200e+04</td>\n",
       "      <td>1.000000e+00</td>\n",
       "      <td>9.000000e+00</td>\n",
       "      <td>4.545455e-02</td>\n",
       "      <td>1.000000e+00</td>\n",
       "      <td>2.500000e+01</td>\n",
       "      <td>7.714286e+00</td>\n",
       "      <td>0.000000e+00</td>\n",
       "      <td>0.000000e+00</td>\n",
       "      <td>...</td>\n",
       "      <td>0.000000e+00</td>\n",
       "      <td>0.000000e+00</td>\n",
       "      <td>0.000000e+00</td>\n",
       "      <td>0.000000e+00</td>\n",
       "      <td>0.000000e+00</td>\n",
       "      <td>0.000000e+00</td>\n",
       "      <td>0.000000e+00</td>\n",
       "      <td>0.000000e+00</td>\n",
       "      <td>8.000000e+00</td>\n",
       "      <td>8.000000e+00</td>\n",
       "    </tr>\n",
       "    <tr>\n",
       "      <th>50%</th>\n",
       "      <td>1.027130e+05</td>\n",
       "      <td>2.564000e+04</td>\n",
       "      <td>1.000000e+00</td>\n",
       "      <td>1.800000e+01</td>\n",
       "      <td>9.615385e-02</td>\n",
       "      <td>2.000000e+00</td>\n",
       "      <td>3.000000e+01</td>\n",
       "      <td>1.175000e+01</td>\n",
       "      <td>0.000000e+00</td>\n",
       "      <td>0.000000e+00</td>\n",
       "      <td>...</td>\n",
       "      <td>3.000000e+00</td>\n",
       "      <td>2.000000e-01</td>\n",
       "      <td>0.000000e+00</td>\n",
       "      <td>4.000000e+00</td>\n",
       "      <td>2.250000e+00</td>\n",
       "      <td>0.000000e+00</td>\n",
       "      <td>0.000000e+00</td>\n",
       "      <td>0.000000e+00</td>\n",
       "      <td>1.100000e+01</td>\n",
       "      <td>1.100000e+01</td>\n",
       "    </tr>\n",
       "    <tr>\n",
       "      <th>75%</th>\n",
       "      <td>1.544500e+05</td>\n",
       "      <td>3.815700e+04</td>\n",
       "      <td>2.000000e+00</td>\n",
       "      <td>3.500000e+01</td>\n",
       "      <td>2.000000e-01</td>\n",
       "      <td>5.000000e+00</td>\n",
       "      <td>3.000000e+01</td>\n",
       "      <td>1.714286e+01</td>\n",
       "      <td>9.000000e+00</td>\n",
       "      <td>3.000000e+01</td>\n",
       "      <td>...</td>\n",
       "      <td>5.000000e+00</td>\n",
       "      <td>2.000000e-01</td>\n",
       "      <td>6.000000e+00</td>\n",
       "      <td>2.900000e+01</td>\n",
       "      <td>1.475000e+01</td>\n",
       "      <td>0.000000e+00</td>\n",
       "      <td>0.000000e+00</td>\n",
       "      <td>0.000000e+00</td>\n",
       "      <td>1.500000e+01</td>\n",
       "      <td>1.600000e+01</td>\n",
       "    </tr>\n",
       "    <tr>\n",
       "      <th>max</th>\n",
       "      <td>2.062090e+05</td>\n",
       "      <td>4.968800e+04</td>\n",
       "      <td>9.900000e+01</td>\n",
       "      <td>9.900000e+01</td>\n",
       "      <td>1.000000e+00</td>\n",
       "      <td>3.000000e+01</td>\n",
       "      <td>3.000000e+01</td>\n",
       "      <td>3.000000e+01</td>\n",
       "      <td>3.650000e+02</td>\n",
       "      <td>3.650000e+02</td>\n",
       "      <td>...</td>\n",
       "      <td>5.000000e+00</td>\n",
       "      <td>1.000000e+00</td>\n",
       "      <td>3.000000e+01</td>\n",
       "      <td>3.000000e+01</td>\n",
       "      <td>3.000000e+01</td>\n",
       "      <td>1.200000e+02</td>\n",
       "      <td>1.200000e+02</td>\n",
       "      <td>1.200000e+02</td>\n",
       "      <td>7.000000e+01</td>\n",
       "      <td>8.400000e+01</td>\n",
       "    </tr>\n",
       "  </tbody>\n",
       "</table>\n",
       "<p>8 rows × 23 columns</p>\n",
       "</div>"
      ],
      "text/plain": [
       "            user_id    product_id  times_ordered  total_orders   pct_reorder  \\\n",
       "count  1.330795e+07  1.330795e+07   1.330795e+07  1.330795e+07  1.330795e+07   \n",
       "mean   1.029987e+05  2.551351e+04   2.437226e+00  2.538019e+01  1.542015e-01   \n",
       "std    5.943677e+04  1.422429e+04   3.554528e+00  2.228080e+01  1.645884e-01   \n",
       "min    1.000000e+00  1.000000e+00   1.000000e+00  3.000000e+00  1.010101e-02   \n",
       "25%    5.157900e+04  1.329200e+04   1.000000e+00  9.000000e+00  4.545455e-02   \n",
       "50%    1.027130e+05  2.564000e+04   1.000000e+00  1.800000e+01  9.615385e-02   \n",
       "75%    1.544500e+05  3.815700e+04   2.000000e+00  3.500000e+01  2.000000e-01   \n",
       "max    2.062090e+05  4.968800e+04   9.900000e+01  9.900000e+01  1.000000e+00   \n",
       "\n",
       "       min_days_bet  max_days_bet  avg_days_bet  min_reorder_days  \\\n",
       "count  1.330795e+07  1.330795e+07  1.330795e+07      1.330795e+07   \n",
       "mean   3.776690e+00  2.657565e+01  1.283433e+01      1.236982e+01   \n",
       "std    5.102299e+00  6.102046e+00  6.399232e+00      3.141338e+01   \n",
       "min    0.000000e+00  0.000000e+00  0.000000e+00      0.000000e+00   \n",
       "25%    1.000000e+00  2.500000e+01  7.714286e+00      0.000000e+00   \n",
       "50%    2.000000e+00  3.000000e+01  1.175000e+01      0.000000e+00   \n",
       "75%    5.000000e+00  3.000000e+01  1.714286e+01      9.000000e+00   \n",
       "max    3.000000e+01  3.000000e+01  3.000000e+01      3.650000e+02   \n",
       "\n",
       "       max_reorder_days  ...  last5_total_orders  last5_pct_order  \\\n",
       "count      1.330795e+07  ...        1.330795e+07     1.330795e+07   \n",
       "mean       2.433866e+01  ...        2.398653e+00     1.579592e-01   \n",
       "std        4.499039e+01  ...        2.413698e+00     2.042882e-01   \n",
       "min        0.000000e+00  ...        0.000000e+00     0.000000e+00   \n",
       "25%        0.000000e+00  ...        0.000000e+00     0.000000e+00   \n",
       "50%        0.000000e+00  ...        3.000000e+00     2.000000e-01   \n",
       "75%        3.000000e+01  ...        5.000000e+00     2.000000e-01   \n",
       "max        3.650000e+02  ...        5.000000e+00     1.000000e+00   \n",
       "\n",
       "       min_days_5odrs  max_days_5odrs  avg_days_5odrs  min_reorder_5days  \\\n",
       "count    1.330795e+07    1.330795e+07    1.330795e+07       1.330795e+07   \n",
       "mean     4.098218e+00    1.131039e+01    7.676283e+00       2.883439e+00   \n",
       "std      6.502440e+00    1.287494e+01    9.270063e+00       9.673783e+00   \n",
       "min      0.000000e+00    0.000000e+00    0.000000e+00       0.000000e+00   \n",
       "25%      0.000000e+00    0.000000e+00    0.000000e+00       0.000000e+00   \n",
       "50%      0.000000e+00    4.000000e+00    2.250000e+00       0.000000e+00   \n",
       "75%      6.000000e+00    2.900000e+01    1.475000e+01       0.000000e+00   \n",
       "max      3.000000e+01    3.000000e+01    3.000000e+01       1.200000e+02   \n",
       "\n",
       "       max_reorder_5days  avg_reorder_5days  avg_items_ordered  \\\n",
       "count       1.330795e+07       1.330795e+07       1.330795e+07   \n",
       "mean        3.670918e+00       3.267203e+00       1.224318e+01   \n",
       "std         1.120417e+01       1.022962e+01       6.307086e+00   \n",
       "min         0.000000e+00       0.000000e+00       1.000000e+00   \n",
       "25%         0.000000e+00       0.000000e+00       8.000000e+00   \n",
       "50%         0.000000e+00       0.000000e+00       1.100000e+01   \n",
       "75%         0.000000e+00       0.000000e+00       1.500000e+01   \n",
       "max         1.200000e+02       1.200000e+02       7.000000e+01   \n",
       "\n",
       "       last5_avg_items  \n",
       "count     1.330795e+07  \n",
       "mean      1.276982e+01  \n",
       "std       7.022815e+00  \n",
       "min       1.000000e+00  \n",
       "25%       8.000000e+00  \n",
       "50%       1.100000e+01  \n",
       "75%       1.600000e+01  \n",
       "max       8.400000e+01  \n",
       "\n",
       "[8 rows x 23 columns]"
      ]
     },
     "execution_count": 11,
     "metadata": {},
     "output_type": "execute_result"
    }
   ],
   "source": [
    "df.describe()"
   ]
  },
  {
   "cell_type": "code",
   "execution_count": null,
   "metadata": {},
   "outputs": [],
   "source": [
    "df['target'].value_counts(normalize=True)"
   ]
  },
  {
   "cell_type": "markdown",
   "metadata": {},
   "source": [
    "# Set up the data for training"
   ]
  },
  {
   "cell_type": "code",
   "execution_count": 13,
   "metadata": {},
   "outputs": [],
   "source": [
    "df = df.sample(500000)"
   ]
  },
  {
   "cell_type": "code",
   "execution_count": 14,
   "metadata": {},
   "outputs": [
    {
     "data": {
      "text/plain": [
       "0    468998\n",
       "1     31002\n",
       "Name: target, dtype: int64"
      ]
     },
     "execution_count": 14,
     "metadata": {},
     "output_type": "execute_result"
    }
   ],
   "source": [
    "df['target'].value_counts()"
   ]
  },
  {
   "cell_type": "code",
   "execution_count": 14,
   "metadata": {},
   "outputs": [],
   "source": [
    "X = df[features]\n",
    "y = df['target']"
   ]
  },
  {
   "cell_type": "code",
   "execution_count": 17,
   "metadata": {},
   "outputs": [
    {
     "data": {
      "text/plain": [
       "0    0.937996\n",
       "1    0.062004\n",
       "Name: target, dtype: float64"
      ]
     },
     "execution_count": 17,
     "metadata": {},
     "output_type": "execute_result"
    }
   ],
   "source": [
    "df['target'].value_counts(normalize=True)"
   ]
  },
  {
   "cell_type": "markdown",
   "metadata": {},
   "source": [
    "# Scale the data"
   ]
  },
  {
   "cell_type": "code",
   "execution_count": 15,
   "metadata": {},
   "outputs": [],
   "source": [
    "X_train, X_test, y_train, y_test = train_test_split(X, y,random_state = 42,test_size =0.2, stratify =y)\n",
    "ss = StandardScaler()\n",
    "X_train_sc = ss.fit_transform(X_train)\n",
    "X_test_sc = ss.transform(X_test)"
   ]
  },
  {
   "cell_type": "code",
   "execution_count": 8,
   "metadata": {},
   "outputs": [
    {
     "data": {
      "text/plain": [
       "0    12479129\n",
       "1      828824\n",
       "Name: target, dtype: int64"
      ]
     },
     "execution_count": 8,
     "metadata": {},
     "output_type": "execute_result"
    }
   ],
   "source": [
    "df['target'].value_counts()"
   ]
  },
  {
   "cell_type": "code",
   "execution_count": 16,
   "metadata": {},
   "outputs": [
    {
     "data": {
      "text/plain": [
       "LogisticRegression()"
      ]
     },
     "execution_count": 16,
     "metadata": {},
     "output_type": "execute_result"
    }
   ],
   "source": [
    "log = LogisticRegression()\n",
    "log.fit(X_train_sc, y_train)"
   ]
  },
  {
   "cell_type": "code",
   "execution_count": null,
   "metadata": {},
   "outputs": [],
   "source": [
    "# The model is predicing all values as '0' - imbalance dataset"
   ]
  },
  {
   "cell_type": "code",
   "execution_count": 17,
   "metadata": {},
   "outputs": [
    {
     "data": {
      "text/plain": [
       "(0.9371475, 0.93771)"
      ]
     },
     "execution_count": 17,
     "metadata": {},
     "output_type": "execute_result"
    }
   ],
   "source": [
    "log.score(X_train_sc, y_train), log.score(X_test_sc, y_test)"
   ]
  },
  {
   "cell_type": "code",
   "execution_count": 18,
   "metadata": {},
   "outputs": [
    {
     "data": {
      "text/plain": [
       "array([0, 0, 0, ..., 0, 0, 0])"
      ]
     },
     "execution_count": 18,
     "metadata": {},
     "output_type": "execute_result"
    }
   ],
   "source": [
    "preds_log = log.predict(X_test_sc)\n",
    "preds_log"
   ]
  },
  {
   "cell_type": "code",
   "execution_count": 19,
   "metadata": {},
   "outputs": [],
   "source": [
    "# Function to Print the metrics\n",
    "def metrics(y_test, y_predict):\n",
    "    print('Accuracy score %s ' % accuracy_score(y_test, y_predict), '\\n')\n",
    "    print('----------------------------------------------------------------')\n",
    "    print(pd.DataFrame(confusion_matrix(y_test, y_predict), \n",
    "                            index=['Not R', 'Reordered'], \n",
    "                            columns=['Not R', 'Reordered']), '\\n')\n",
    "    print('-----------------------------------------------------------------')\n",
    "    print(classification_report(y_test, y_predict))\n",
    "    print('-----------------------------------------------------------------')"
   ]
  },
  {
   "cell_type": "code",
   "execution_count": 27,
   "metadata": {},
   "outputs": [
    {
     "name": "stdout",
     "output_type": "stream",
     "text": [
      "Accuracy score 0.93716  \n",
      "\n",
      "----------------------------------------------------------------\n",
      "           Not R  Reordered\n",
      "Not R      93456        266\n",
      "Reordered   6018        260 \n",
      "\n",
      "-----------------------------------------------------------------\n",
      "              precision    recall  f1-score   support\n",
      "\n",
      "           0       0.94      1.00      0.97     93722\n",
      "           1       0.49      0.04      0.08      6278\n",
      "\n",
      "    accuracy                           0.94    100000\n",
      "   macro avg       0.72      0.52      0.52    100000\n",
      "weighted avg       0.91      0.94      0.91    100000\n",
      "\n",
      "-----------------------------------------------------------------\n"
     ]
    }
   ],
   "source": [
    "metrics(y_test, preds_log)"
   ]
  },
  {
   "cell_type": "markdown",
   "metadata": {},
   "source": [
    "# Let's create some synthetic data with SMOTE¶\n"
   ]
  },
  {
   "cell_type": "code",
   "execution_count": 21,
   "metadata": {},
   "outputs": [],
   "source": [
    "sm = SMOTE()\n",
    "\n",
    "Xsm_train, ysm_train = sm.fit_sample(X_train_sc, y_train)\n"
   ]
  },
  {
   "cell_type": "code",
   "execution_count": 22,
   "metadata": {},
   "outputs": [
    {
     "name": "stdout",
     "output_type": "stream",
     "text": [
      "1    374932\n",
      "0    374932\n",
      "Name: target, dtype: int64\n"
     ]
    }
   ],
   "source": [
    "print(pd.Series(ysm_train).value_counts())\n"
   ]
  },
  {
   "cell_type": "markdown",
   "metadata": {},
   "source": [
    "# Modeling with all numeric features"
   ]
  },
  {
   "cell_type": "markdown",
   "metadata": {},
   "source": [
    "# Best Model: LogisticRegression Model"
   ]
  },
  {
   "cell_type": "code",
   "execution_count": 23,
   "metadata": {},
   "outputs": [
    {
     "data": {
      "text/plain": [
       "LogisticRegression()"
      ]
     },
     "execution_count": 23,
     "metadata": {},
     "output_type": "execute_result"
    }
   ],
   "source": [
    "lr = LogisticRegression()\n",
    "lr.fit(Xsm_train, ysm_train)\n"
   ]
  },
  {
   "cell_type": "code",
   "execution_count": 24,
   "metadata": {},
   "outputs": [
    {
     "data": {
      "text/plain": [
       "(0.7113489912837528, 0.73571)"
      ]
     },
     "execution_count": 24,
     "metadata": {},
     "output_type": "execute_result"
    }
   ],
   "source": [
    "lr.score(Xsm_train, ysm_train), lr.score(X_test_sc, y_test)\n"
   ]
  },
  {
   "cell_type": "code",
   "execution_count": 25,
   "metadata": {},
   "outputs": [
    {
     "data": {
      "text/plain": [
       "array([1, 0, 1, ..., 1, 1, 0])"
      ]
     },
     "execution_count": 25,
     "metadata": {},
     "output_type": "execute_result"
    }
   ],
   "source": [
    "preds = lr.predict(X_test_sc)\n",
    "preds"
   ]
  },
  {
   "cell_type": "code",
   "execution_count": 26,
   "metadata": {},
   "outputs": [
    {
     "name": "stdout",
     "output_type": "stream",
     "text": [
      "Accuracy score 0.73571  \n",
      "\n",
      "----------------------------------------------------------------\n",
      "           Not R  Reordered\n",
      "Not R      69249      24484\n",
      "Reordered   1945       4322 \n",
      "\n",
      "-----------------------------------------------------------------\n",
      "              precision    recall  f1-score   support\n",
      "\n",
      "           0       0.97      0.74      0.84     93733\n",
      "           1       0.15      0.69      0.25      6267\n",
      "\n",
      "    accuracy                           0.74    100000\n",
      "   macro avg       0.56      0.71      0.54    100000\n",
      "weighted avg       0.92      0.74      0.80    100000\n",
      "\n",
      "-----------------------------------------------------------------\n"
     ]
    }
   ],
   "source": [
    "metrics(y_test, preds)"
   ]
  },
  {
   "cell_type": "code",
   "execution_count": 32,
   "metadata": {},
   "outputs": [
    {
     "data": {
      "image/png": "[encoded data removed]",
      "text/plain": [
       "<Figure size 432x288 with 2 Axes>"
      ]
     },
     "metadata": {
      "needs_background": "light"
     },
     "output_type": "display_data"
    }
   ],
   "source": [
    "# Save confusion matrix values\n",
    "tn, fp, fn, tp = confusion_matrix(y_test, preds).ravel()\n",
    "\n",
    "plot_confusion_matrix(lr, X_test_sc, y_test, cmap='viridis', values_format='d');"
   ]
  },
  {
   "cell_type": "code",
   "execution_count": 63,
   "metadata": {},
   "outputs": [
    {
     "data": {
      "image/png": "[encoded data removed]",
      "text/plain": [
       "<Figure size 432x288 with 1 Axes>"
      ]
     },
     "metadata": {
      "needs_background": "light"
     },
     "output_type": "display_data"
    }
   ],
   "source": [
    "# Import metrics.\n",
    "from sklearn import metrics\n",
    "\n",
    "# ROC curve\n",
    "metrics.plot_roc_curve(lr, X_test_sc, y_test)\n",
    "\n",
    "# add worst case scenario line\n",
    "plt.plot([0, 1], [0, 1], label = 'baseline', linestyle = '--')\n",
    "\n",
    "# add a legend\n",
    "plt.legend();"
   ]
  },
  {
   "cell_type": "code",
   "execution_count": 33,
   "metadata": {},
   "outputs": [
    {
     "name": "stdout",
     "output_type": "stream",
     "text": [
      "Sensitivity: 0.6896\n",
      "Specificity: 0.7388\n"
     ]
    }
   ],
   "source": [
    "# Calculate sensitivity / recall. pos % correct when actually true\n",
    "\n",
    "sens =tp / (tp + fn)\n",
    "print(f'Sensitivity: {round(sens, 4)}')\n",
    "\n",
    "# Calculate specificity. % correct when actually false\n",
    "\n",
    "spec = tn / (tn + fp)\n",
    "print(f'Specificity: {round(spec, 4)}')"
   ]
  },
  {
   "cell_type": "markdown",
   "metadata": {},
   "source": [
    "# Other Models generated"
   ]
  },
  {
   "cell_type": "code",
   "execution_count": 28,
   "metadata": {},
   "outputs": [
    {
     "data": {
      "text/plain": [
       "(0.919068629673991, 0.77717)"
      ]
     },
     "execution_count": 28,
     "metadata": {},
     "output_type": "execute_result"
    }
   ],
   "source": [
    "# K-Nearest Neighbors\n",
    "model_knn = KNeighborsClassifier()\n",
    "model_knn.fit(Xsm_train, ysm_train)\n",
    "\n",
    "#accuracy scor: train, test\n",
    "model_knn.score(Xsm_train, ysm_train), model_knn.score(X_test_sc, y_test)\n"
   ]
  },
  {
   "cell_type": "code",
   "execution_count": 29,
   "metadata": {},
   "outputs": [
    {
     "name": "stdout",
     "output_type": "stream",
     "text": [
      "Accuracy score 0.77717  \n",
      "\n",
      "----------------------------------------------------------------\n",
      "            None  Reordered\n",
      "None       74730      18987\n",
      "Reordered   3296       2987 \n",
      "\n",
      "-----------------------------------------------------------------\n",
      "              precision    recall  f1-score   support\n",
      "\n",
      "           0       0.96      0.80      0.87     93717\n",
      "           1       0.14      0.48      0.21      6283\n",
      "\n",
      "    accuracy                           0.78    100000\n",
      "   macro avg       0.55      0.64      0.54    100000\n",
      "weighted avg       0.91      0.78      0.83    100000\n",
      "\n",
      "-----------------------------------------------------------------\n"
     ]
    }
   ],
   "source": [
    "# Get preditions and validate our model\n",
    "preds_knn = model_knn.predict(X_test_sc)\n",
    "\n",
    "metrics(y_test, preds_knn)"
   ]
  },
  {
   "cell_type": "code",
   "execution_count": 22,
   "metadata": {},
   "outputs": [
    {
     "data": {
      "text/plain": [
       "(0.9928917531543345, 0.88989)"
      ]
     },
     "execution_count": 22,
     "metadata": {},
     "output_type": "execute_result"
    }
   ],
   "source": [
    "# Decision Tree Classifiers/Random Forests\n",
    "model_dt = DecisionTreeClassifier()\n",
    "model_dt.fit(Xsm_train, ysm_train)\n",
    "\n",
    "model_dt.score(Xsm_train, ysm_train), model_dt.score(X_test_sc, y_test)\n"
   ]
  },
  {
   "cell_type": "code",
   "execution_count": 30,
   "metadata": {},
   "outputs": [
    {
     "name": "stdout",
     "output_type": "stream",
     "text": [
      "Accuracy score 0.88989  \n",
      "\n",
      "----------------------------------------------------------------\n",
      "            None  Reordered\n",
      "None       87728       6072\n",
      "Reordered   4939       1261 \n",
      "\n",
      "-----------------------------------------------------------------\n",
      "              precision    recall  f1-score   support\n",
      "\n",
      "           0       0.95      0.94      0.94     93800\n",
      "           1       0.17      0.20      0.19      6200\n",
      "\n",
      "    accuracy                           0.89    100000\n",
      "   macro avg       0.56      0.57      0.56    100000\n",
      "weighted avg       0.90      0.89      0.89    100000\n",
      "\n",
      "-----------------------------------------------------------------\n"
     ]
    }
   ],
   "source": [
    "# Get preditions and validate our model\n",
    "preds_dt = model_dt.predict(X_test_sc)\n",
    "\n",
    "metrics(y_test, preds_dt)\n"
   ]
  },
  {
   "cell_type": "code",
   "execution_count": 33,
   "metadata": {},
   "outputs": [
    {
     "data": {
      "text/plain": [
       "(0.9928890878949248, 0.91967)"
      ]
     },
     "execution_count": 33,
     "metadata": {},
     "output_type": "execute_result"
    }
   ],
   "source": [
    "# Random Forest Classifiers/Random Forests\n",
    "model_rf = RandomForestClassifier()\n",
    "model_rf.fit(Xsm_train, ysm_train)\n",
    "\n",
    "model_rf.score(Xsm_train, ysm_train), model_rf.score(X_test_sc, y_test)\n"
   ]
  },
  {
   "cell_type": "code",
   "execution_count": 35,
   "metadata": {},
   "outputs": [
    {
     "name": "stdout",
     "output_type": "stream",
     "text": [
      "Accuracy score 0.91967  \n",
      "\n",
      "----------------------------------------------------------------\n",
      "            None  Reordered\n",
      "None       90915       2885\n",
      "Reordered   5148       1052 \n",
      "\n",
      "-----------------------------------------------------------------\n",
      "              precision    recall  f1-score   support\n",
      "\n",
      "           0       0.95      0.97      0.96     93800\n",
      "           1       0.27      0.17      0.21      6200\n",
      "\n",
      "    accuracy                           0.92    100000\n",
      "   macro avg       0.61      0.57      0.58    100000\n",
      "weighted avg       0.90      0.92      0.91    100000\n",
      "\n",
      "-----------------------------------------------------------------\n"
     ]
    }
   ],
   "source": [
    "# Get preditions and validate our model\n",
    "preds_rf = model_rf.predict(X_test_sc)\n",
    "\n",
    "metrics(y_test, preds_rf)\n"
   ]
  },
  {
   "cell_type": "code",
   "execution_count": 36,
   "metadata": {},
   "outputs": [
    {
     "data": {
      "text/plain": [
       "(0.7745750243871236, 0.81623)"
      ]
     },
     "execution_count": 36,
     "metadata": {},
     "output_type": "execute_result"
    }
   ],
   "source": [
    "# Ada Boost\n",
    "model_ada = AdaBoostClassifier()\n",
    "model_ada.fit(Xsm_train, ysm_train)\n",
    "\n",
    "model_ada.score(Xsm_train, ysm_train), model_ada.score(X_test_sc, y_test)\n"
   ]
  },
  {
   "cell_type": "code",
   "execution_count": 37,
   "metadata": {},
   "outputs": [
    {
     "name": "stdout",
     "output_type": "stream",
     "text": [
      "Accuracy score 0.81623  \n",
      "\n",
      "----------------------------------------------------------------\n",
      "            None  Reordered\n",
      "None       78072      15728\n",
      "Reordered   2649       3551 \n",
      "\n",
      "-----------------------------------------------------------------\n",
      "              precision    recall  f1-score   support\n",
      "\n",
      "           0       0.97      0.83      0.89     93800\n",
      "           1       0.18      0.57      0.28      6200\n",
      "\n",
      "    accuracy                           0.82    100000\n",
      "   macro avg       0.58      0.70      0.59    100000\n",
      "weighted avg       0.92      0.82      0.86    100000\n",
      "\n",
      "-----------------------------------------------------------------\n"
     ]
    }
   ],
   "source": [
    "# Get preditions and validate our model\n",
    "preds_ada = model_ada.predict(X_test_sc)\n",
    "\n",
    "metrics(y_test, preds_ada)\n"
   ]
  },
  {
   "cell_type": "code",
   "execution_count": 38,
   "metadata": {},
   "outputs": [
    {
     "data": {
      "text/plain": [
       "(0.9902264937446361, 0.91922)"
      ]
     },
     "execution_count": 38,
     "metadata": {},
     "output_type": "execute_result"
    }
   ],
   "source": [
    "# BaggingClassifier\n",
    "model_bag = BaggingClassifier()\n",
    "model_bag.fit(Xsm_train, ysm_train)\n",
    "\n",
    "model_bag.score(Xsm_train, ysm_train), model_bag.score(X_test_sc, y_test)\n"
   ]
  },
  {
   "cell_type": "code",
   "execution_count": 39,
   "metadata": {},
   "outputs": [
    {
     "name": "stdout",
     "output_type": "stream",
     "text": [
      "Accuracy score 0.91922  \n",
      "\n",
      "----------------------------------------------------------------\n",
      "            None  Reordered\n",
      "None       91148       2652\n",
      "Reordered   5426        774 \n",
      "\n",
      "-----------------------------------------------------------------\n",
      "              precision    recall  f1-score   support\n",
      "\n",
      "           0       0.94      0.97      0.96     93800\n",
      "           1       0.23      0.12      0.16      6200\n",
      "\n",
      "    accuracy                           0.92    100000\n",
      "   macro avg       0.58      0.55      0.56    100000\n",
      "weighted avg       0.90      0.92      0.91    100000\n",
      "\n",
      "-----------------------------------------------------------------\n"
     ]
    }
   ],
   "source": [
    "# Get preditions and validate our model\n",
    "preds_bag = model_bag.predict(X_test_sc)\n",
    "\n",
    "metrics(y_test, preds_bag)"
   ]
  },
  {
   "cell_type": "code",
   "execution_count": 63,
   "metadata": {},
   "outputs": [
    {
     "name": "stdout",
     "output_type": "stream",
     "text": [
      "0.16081446083523787\n"
     ]
    }
   ],
   "source": [
    "print(f1_score(y_test, preds_bag))"
   ]
  },
  {
   "cell_type": "code",
   "execution_count": 64,
   "metadata": {},
   "outputs": [
    {
     "data": {
      "image/png": "[encoded data removed]",
      "text/plain": [
       "<Figure size 432x288 with 2 Axes>"
      ]
     },
     "metadata": {
      "needs_background": "light"
     },
     "output_type": "display_data"
    }
   ],
   "source": [
    "# Save confusion matrix values\n",
    "tn, fp, fn, tp = confusion_matrix(y_test, preds_bag).ravel()\n",
    "\n",
    "plot_confusion_matrix(model_bag, X_test_sc, y_test, cmap='viridis', values_format='d');"
   ]
  },
  {
   "cell_type": "code",
   "execution_count": 56,
   "metadata": {},
   "outputs": [
    {
     "name": "stdout",
     "output_type": "stream",
     "text": [
      "Sensitivity: 0.1248\n",
      "Specificity: 0.9717\n"
     ]
    }
   ],
   "source": [
    "# Calculate sensitivity / recall. pos % correct when actually true\n",
    "\n",
    "sens =tp / (tp + fn)\n",
    "print(f'Sensitivity: {round(sens, 4)}')\n",
    "\n",
    "# Calculate specificity. % correct when actually false\n",
    "\n",
    "spec = tn / (tn + fp)\n",
    "print(f'Specificity: {round(spec, 4)}')"
   ]
  },
  {
   "cell_type": "markdown",
   "metadata": {},
   "source": [
    "# Add Departments"
   ]
  },
  {
   "cell_type": "code",
   "execution_count": 35,
   "metadata": {},
   "outputs": [],
   "source": [
    "X = df[features2]\n",
    "y = df['target']"
   ]
  },
  {
   "cell_type": "code",
   "execution_count": 36,
   "metadata": {},
   "outputs": [],
   "source": [
    "X = pd.get_dummies(X, columns=['department'], drop_first=True)"
   ]
  },
  {
   "cell_type": "code",
   "execution_count": 37,
   "metadata": {},
   "outputs": [],
   "source": [
    "X_train, X_test, y_train, y_test = train_test_split(X, y,random_state = 42,test_size =0.2, stratify =y)\n",
    "ss = StandardScaler()\n",
    "X_train_sc = ss.fit_transform(X_train)\n",
    "X_test_sc = ss.transform(X_test)"
   ]
  },
  {
   "cell_type": "code",
   "execution_count": 38,
   "metadata": {},
   "outputs": [
    {
     "name": "stdout",
     "output_type": "stream",
     "text": [
      "1    374932\n",
      "0    374932\n",
      "Name: target, dtype: int64\n"
     ]
    }
   ],
   "source": [
    "sm = SMOTE()\n",
    "\n",
    "Xsm_train, ysm_train = sm.fit_sample(X_train_sc, y_train)\n",
    "\n",
    "print(pd.Series(ysm_train).value_counts())\n"
   ]
  },
  {
   "cell_type": "code",
   "execution_count": 39,
   "metadata": {},
   "outputs": [
    {
     "name": "stderr",
     "output_type": "stream",
     "text": [
      "/Users/paulettewarrick/opt/anaconda3/lib/python3.8/site-packages/sklearn/linear_model/_logistic.py:762: ConvergenceWarning: lbfgs failed to converge (status=1):\n",
      "STOP: TOTAL NO. of ITERATIONS REACHED LIMIT.\n",
      "\n",
      "Increase the number of iterations (max_iter) or scale the data as shown in:\n",
      "    https://scikit-learn.org/stable/modules/preprocessing.html\n",
      "Please also refer to the documentation for alternative solver options:\n",
      "    https://scikit-learn.org/stable/modules/linear_model.html#logistic-regression\n",
      "  n_iter_i = _check_optimize_result(\n"
     ]
    },
    {
     "data": {
      "text/plain": [
       "(0.713798768843417, 0.75128)"
      ]
     },
     "execution_count": 39,
     "metadata": {},
     "output_type": "execute_result"
    }
   ],
   "source": [
    "lr = LogisticRegression()\n",
    "lr.fit(Xsm_train, ysm_train)\n",
    "\n",
    "lr.score(Xsm_train, ysm_train), lr.score(X_test_sc, y_test)"
   ]
  },
  {
   "cell_type": "code",
   "execution_count": 40,
   "metadata": {},
   "outputs": [
    {
     "name": "stdout",
     "output_type": "stream",
     "text": [
      "Accuracy score 0.75128  \n",
      "\n",
      "----------------------------------------------------------------\n",
      "           Not R  Reordered\n",
      "Not R      70891      22842\n",
      "Reordered   2030       4237 \n",
      "\n",
      "-----------------------------------------------------------------\n",
      "              precision    recall  f1-score   support\n",
      "\n",
      "           0       0.97      0.76      0.85     93733\n",
      "           1       0.16      0.68      0.25      6267\n",
      "\n",
      "    accuracy                           0.75    100000\n",
      "   macro avg       0.56      0.72      0.55    100000\n",
      "weighted avg       0.92      0.75      0.81    100000\n",
      "\n",
      "-----------------------------------------------------------------\n"
     ]
    }
   ],
   "source": [
    "preds = lr.predict(X_test_sc)\n",
    "metrics(y_test, preds)"
   ]
  },
  {
   "cell_type": "code",
   "execution_count": 41,
   "metadata": {},
   "outputs": [
    {
     "data": {
      "text/plain": [
       "(0.9981823370637876, 0.88335)"
      ]
     },
     "execution_count": 41,
     "metadata": {},
     "output_type": "execute_result"
    }
   ],
   "source": [
    "# Decision Tree Classifiers/Random Forests\n",
    "model_dt = DecisionTreeClassifier()\n",
    "model_dt.fit(Xsm_train, ysm_train)\n",
    "\n",
    "model_dt.score(Xsm_train, ysm_train), model_dt.score(X_test_sc, y_test)"
   ]
  },
  {
   "cell_type": "code",
   "execution_count": 42,
   "metadata": {},
   "outputs": [
    {
     "name": "stdout",
     "output_type": "stream",
     "text": [
      "Accuracy score 0.88335  \n",
      "\n",
      "----------------------------------------------------------------\n",
      "           Not R  Reordered\n",
      "Not R      87029       6704\n",
      "Reordered   4961       1306 \n",
      "\n",
      "-----------------------------------------------------------------\n",
      "              precision    recall  f1-score   support\n",
      "\n",
      "           0       0.95      0.93      0.94     93733\n",
      "           1       0.16      0.21      0.18      6267\n",
      "\n",
      "    accuracy                           0.88    100000\n",
      "   macro avg       0.55      0.57      0.56    100000\n",
      "weighted avg       0.90      0.88      0.89    100000\n",
      "\n",
      "-----------------------------------------------------------------\n"
     ]
    }
   ],
   "source": [
    "# Get preditions and validate our model\n",
    "preds_dt = model_dt.predict(X_test_sc)\n",
    "\n",
    "metrics(y_test, preds_dt)\n"
   ]
  },
  {
   "cell_type": "code",
   "execution_count": 43,
   "metadata": {},
   "outputs": [
    {
     "data": {
      "text/plain": [
       "(0.9981810034886326, 0.92302)"
      ]
     },
     "execution_count": 43,
     "metadata": {},
     "output_type": "execute_result"
    }
   ],
   "source": [
    "# Random Forest Classifiers/Random Forests\n",
    "model_rf = RandomForestClassifier()\n",
    "model_rf.fit(Xsm_train, ysm_train)\n",
    "\n",
    "model_rf.score(Xsm_train, ysm_train), model_rf.score(X_test_sc, y_test)"
   ]
  },
  {
   "cell_type": "code",
   "execution_count": 44,
   "metadata": {},
   "outputs": [
    {
     "name": "stdout",
     "output_type": "stream",
     "text": [
      "Accuracy score 0.92302  \n",
      "\n",
      "----------------------------------------------------------------\n",
      "           Not R  Reordered\n",
      "Not R      91212       2521\n",
      "Reordered   5177       1090 \n",
      "\n",
      "-----------------------------------------------------------------\n",
      "              precision    recall  f1-score   support\n",
      "\n",
      "           0       0.95      0.97      0.96     93733\n",
      "           1       0.30      0.17      0.22      6267\n",
      "\n",
      "    accuracy                           0.92    100000\n",
      "   macro avg       0.62      0.57      0.59    100000\n",
      "weighted avg       0.91      0.92      0.91    100000\n",
      "\n",
      "-----------------------------------------------------------------\n"
     ]
    }
   ],
   "source": [
    "# Get preditions and validate our model\n",
    "preds_rf = model_rf.predict(X_test_sc)\n",
    "\n",
    "metrics(y_test, preds_rf)"
   ]
  },
  {
   "cell_type": "code",
   "execution_count": 45,
   "metadata": {},
   "outputs": [
    {
     "data": {
      "text/plain": [
       "(0.7956176053257658, 0.78079)"
      ]
     },
     "execution_count": 45,
     "metadata": {},
     "output_type": "execute_result"
    }
   ],
   "source": [
    "# Ada Boost\n",
    "model_ada = AdaBoostClassifier()\n",
    "model_ada.fit(Xsm_train, ysm_train)\n",
    "\n",
    "model_ada.score(Xsm_train, ysm_train), model_ada.score(X_test_sc, y_test)\n"
   ]
  },
  {
   "cell_type": "code",
   "execution_count": 46,
   "metadata": {},
   "outputs": [
    {
     "name": "stdout",
     "output_type": "stream",
     "text": [
      "Accuracy score 0.78079  \n",
      "\n",
      "----------------------------------------------------------------\n",
      "           Not R  Reordered\n",
      "Not R      74327      19406\n",
      "Reordered   2515       3752 \n",
      "\n",
      "-----------------------------------------------------------------\n",
      "              precision    recall  f1-score   support\n",
      "\n",
      "           0       0.97      0.79      0.87     93733\n",
      "           1       0.16      0.60      0.26      6267\n",
      "\n",
      "    accuracy                           0.78    100000\n",
      "   macro avg       0.56      0.70      0.56    100000\n",
      "weighted avg       0.92      0.78      0.83    100000\n",
      "\n",
      "-----------------------------------------------------------------\n"
     ]
    }
   ],
   "source": [
    "# Get preditions and validate our model\n",
    "preds_ada = model_ada.predict(X_test_sc)\n",
    "\n",
    "metrics(y_test, preds_ada)"
   ]
  },
  {
   "cell_type": "code",
   "execution_count": 47,
   "metadata": {},
   "outputs": [
    {
     "data": {
      "text/plain": [
       "(0.9946270257006604, 0.92348)"
      ]
     },
     "execution_count": 47,
     "metadata": {},
     "output_type": "execute_result"
    }
   ],
   "source": [
    "# BaggingClassifier\n",
    "model_bag = BaggingClassifier()\n",
    "model_bag.fit(Xsm_train, ysm_train)\n",
    "\n",
    "model_bag.score(Xsm_train, ysm_train), model_bag.score(X_test_sc, y_test)"
   ]
  },
  {
   "cell_type": "code",
   "execution_count": 48,
   "metadata": {},
   "outputs": [
    {
     "name": "stdout",
     "output_type": "stream",
     "text": [
      "Accuracy score 0.92348  \n",
      "\n",
      "----------------------------------------------------------------\n",
      "           Not R  Reordered\n",
      "Not R      91657       2076\n",
      "Reordered   5576        691 \n",
      "\n",
      "-----------------------------------------------------------------\n",
      "              precision    recall  f1-score   support\n",
      "\n",
      "           0       0.94      0.98      0.96     93733\n",
      "           1       0.25      0.11      0.15      6267\n",
      "\n",
      "    accuracy                           0.92    100000\n",
      "   macro avg       0.60      0.54      0.56    100000\n",
      "weighted avg       0.90      0.92      0.91    100000\n",
      "\n",
      "-----------------------------------------------------------------\n"
     ]
    }
   ],
   "source": [
    "# Get preditions and validate our model\n",
    "preds_bag = model_bag.predict(X_test_sc)\n",
    "\n",
    "metrics(y_test, preds_bag)"
   ]
  },
  {
   "cell_type": "markdown",
   "metadata": {},
   "source": [
    "# Remove aggregate features including all orders"
   ]
  },
  {
   "cell_type": "code",
   "execution_count": 49,
   "metadata": {},
   "outputs": [],
   "source": [
    "X = df[features3]\n",
    "y = df['target']"
   ]
  },
  {
   "cell_type": "code",
   "execution_count": 50,
   "metadata": {},
   "outputs": [],
   "source": [
    "X = pd.get_dummies(X, columns=['department'], drop_first=True)"
   ]
  },
  {
   "cell_type": "code",
   "execution_count": 51,
   "metadata": {},
   "outputs": [],
   "source": [
    "X_train, X_test, y_train, y_test = train_test_split(X, y,random_state = 42,test_size =0.2, stratify =y)\n",
    "ss = StandardScaler()\n",
    "X_train_sc = ss.fit_transform(X_train)\n",
    "X_test_sc = ss.transform(X_test)"
   ]
  },
  {
   "cell_type": "code",
   "execution_count": 52,
   "metadata": {},
   "outputs": [
    {
     "name": "stdout",
     "output_type": "stream",
     "text": [
      "1    374932\n",
      "0    374932\n",
      "Name: target, dtype: int64\n"
     ]
    }
   ],
   "source": [
    "sm = SMOTE()\n",
    "\n",
    "Xsm_train, ysm_train = sm.fit_sample(X_train_sc, y_train)\n",
    "\n",
    "print(pd.Series(ysm_train).value_counts())"
   ]
  },
  {
   "cell_type": "code",
   "execution_count": 53,
   "metadata": {},
   "outputs": [
    {
     "data": {
      "text/plain": [
       "(0.711339656257668, 0.75617)"
      ]
     },
     "execution_count": 53,
     "metadata": {},
     "output_type": "execute_result"
    }
   ],
   "source": [
    "lr = LogisticRegression()\n",
    "lr.fit(Xsm_train, ysm_train)\n",
    "\n",
    "lr.score(Xsm_train, ysm_train), lr.score(X_test_sc, y_test)"
   ]
  },
  {
   "cell_type": "code",
   "execution_count": 54,
   "metadata": {},
   "outputs": [
    {
     "name": "stdout",
     "output_type": "stream",
     "text": [
      "Accuracy score 0.75617  \n",
      "\n",
      "----------------------------------------------------------------\n",
      "           Not R  Reordered\n",
      "Not R      71459      22274\n",
      "Reordered   2109       4158 \n",
      "\n",
      "-----------------------------------------------------------------\n",
      "              precision    recall  f1-score   support\n",
      "\n",
      "           0       0.97      0.76      0.85     93733\n",
      "           1       0.16      0.66      0.25      6267\n",
      "\n",
      "    accuracy                           0.76    100000\n",
      "   macro avg       0.56      0.71      0.55    100000\n",
      "weighted avg       0.92      0.76      0.82    100000\n",
      "\n",
      "-----------------------------------------------------------------\n"
     ]
    }
   ],
   "source": [
    "preds = lr.predict(X_test_sc)\n",
    "metrics(y_test, preds)"
   ]
  },
  {
   "cell_type": "code",
   "execution_count": 55,
   "metadata": {},
   "outputs": [
    {
     "data": {
      "text/plain": [
       "(0.9893353994857734, 0.88782)"
      ]
     },
     "execution_count": 55,
     "metadata": {},
     "output_type": "execute_result"
    }
   ],
   "source": [
    "# Decision Tree Classifiers/Random Forests\n",
    "model_dt = DecisionTreeClassifier()\n",
    "model_dt.fit(Xsm_train, ysm_train)\n",
    "\n",
    "model_dt.score(Xsm_train, ysm_train), model_dt.score(X_test_sc, y_test)"
   ]
  },
  {
   "cell_type": "code",
   "execution_count": 56,
   "metadata": {},
   "outputs": [
    {
     "name": "stdout",
     "output_type": "stream",
     "text": [
      "Accuracy score 0.88782  \n",
      "\n",
      "----------------------------------------------------------------\n",
      "           Not R  Reordered\n",
      "Not R      87500       6233\n",
      "Reordered   4985       1282 \n",
      "\n",
      "-----------------------------------------------------------------\n",
      "              precision    recall  f1-score   support\n",
      "\n",
      "           0       0.95      0.93      0.94     93733\n",
      "           1       0.17      0.20      0.19      6267\n",
      "\n",
      "    accuracy                           0.89    100000\n",
      "   macro avg       0.56      0.57      0.56    100000\n",
      "weighted avg       0.90      0.89      0.89    100000\n",
      "\n",
      "-----------------------------------------------------------------\n"
     ]
    }
   ],
   "source": [
    "# Get preditions and validate our model\n",
    "preds_dt = model_dt.predict(X_test_sc)\n",
    "\n",
    "metrics(y_test, preds_dt)\n"
   ]
  },
  {
   "cell_type": "code",
   "execution_count": 57,
   "metadata": {},
   "outputs": [
    {
     "data": {
      "text/plain": [
       "(0.9893273980348436, 0.9026)"
      ]
     },
     "execution_count": 57,
     "metadata": {},
     "output_type": "execute_result"
    }
   ],
   "source": [
    "# Random Forest Classifiers/Random Forests\n",
    "model_rf = RandomForestClassifier()\n",
    "model_rf.fit(Xsm_train, ysm_train)\n",
    "\n",
    "model_rf.score(Xsm_train, ysm_train), model_rf.score(X_test_sc, y_test)"
   ]
  },
  {
   "cell_type": "code",
   "execution_count": 58,
   "metadata": {},
   "outputs": [
    {
     "name": "stdout",
     "output_type": "stream",
     "text": [
      "Accuracy score 0.9026  \n",
      "\n",
      "----------------------------------------------------------------\n",
      "           Not R  Reordered\n",
      "Not R      89061       4672\n",
      "Reordered   5068       1199 \n",
      "\n",
      "-----------------------------------------------------------------\n",
      "              precision    recall  f1-score   support\n",
      "\n",
      "           0       0.95      0.95      0.95     93733\n",
      "           1       0.20      0.19      0.20      6267\n",
      "\n",
      "    accuracy                           0.90    100000\n",
      "   macro avg       0.58      0.57      0.57    100000\n",
      "weighted avg       0.90      0.90      0.90    100000\n",
      "\n",
      "-----------------------------------------------------------------\n"
     ]
    }
   ],
   "source": [
    "# Get preditions and validate our model\n",
    "preds_rf = model_rf.predict(X_test_sc)\n",
    "\n",
    "metrics(y_test, preds_rf)"
   ]
  },
  {
   "cell_type": "code",
   "execution_count": 59,
   "metadata": {},
   "outputs": [
    {
     "data": {
      "text/plain": [
       "(0.746819423255417, 0.76111)"
      ]
     },
     "execution_count": 59,
     "metadata": {},
     "output_type": "execute_result"
    }
   ],
   "source": [
    "# Ada Boost\n",
    "model_ada = AdaBoostClassifier()\n",
    "model_ada.fit(Xsm_train, ysm_train)\n",
    "\n",
    "model_ada.score(Xsm_train, ysm_train), model_ada.score(X_test_sc, y_test)\n"
   ]
  },
  {
   "cell_type": "code",
   "execution_count": 60,
   "metadata": {},
   "outputs": [
    {
     "name": "stdout",
     "output_type": "stream",
     "text": [
      "Accuracy score 0.76111  \n",
      "\n",
      "----------------------------------------------------------------\n",
      "           Not R  Reordered\n",
      "Not R      71999      21734\n",
      "Reordered   2155       4112 \n",
      "\n",
      "-----------------------------------------------------------------\n",
      "              precision    recall  f1-score   support\n",
      "\n",
      "           0       0.97      0.77      0.86     93733\n",
      "           1       0.16      0.66      0.26      6267\n",
      "\n",
      "    accuracy                           0.76    100000\n",
      "   macro avg       0.57      0.71      0.56    100000\n",
      "weighted avg       0.92      0.76      0.82    100000\n",
      "\n",
      "-----------------------------------------------------------------\n"
     ]
    }
   ],
   "source": [
    "# Get preditions and validate our model\n",
    "preds_ada = model_ada.predict(X_test_sc)\n",
    "\n",
    "metrics(y_test, preds_ada)"
   ]
  },
  {
   "cell_type": "code",
   "execution_count": 61,
   "metadata": {},
   "outputs": [
    {
     "data": {
      "text/plain": [
       "(0.9858827734095783, 0.91276)"
      ]
     },
     "execution_count": 61,
     "metadata": {},
     "output_type": "execute_result"
    }
   ],
   "source": [
    "# BaggingClassifier\n",
    "model_bag = BaggingClassifier()\n",
    "model_bag.fit(Xsm_train, ysm_train)\n",
    "\n",
    "model_bag.score(Xsm_train, ysm_train), model_bag.score(X_test_sc, y_test)"
   ]
  },
  {
   "cell_type": "code",
   "execution_count": 62,
   "metadata": {},
   "outputs": [
    {
     "name": "stdout",
     "output_type": "stream",
     "text": [
      "Accuracy score 0.91276  \n",
      "\n",
      "----------------------------------------------------------------\n",
      "           Not R  Reordered\n",
      "Not R      90428       3305\n",
      "Reordered   5419        848 \n",
      "\n",
      "-----------------------------------------------------------------\n",
      "              precision    recall  f1-score   support\n",
      "\n",
      "           0       0.94      0.96      0.95     93733\n",
      "           1       0.20      0.14      0.16      6267\n",
      "\n",
      "    accuracy                           0.91    100000\n",
      "   macro avg       0.57      0.55      0.56    100000\n",
      "weighted avg       0.90      0.91      0.90    100000\n",
      "\n",
      "-----------------------------------------------------------------\n"
     ]
    }
   ],
   "source": [
    "# Get preditions and validate our model\n",
    "preds_bag = model_bag.predict(X_test_sc)\n",
    "\n",
    "metrics(y_test, preds_bag)"
   ]
  }
 ],
 "metadata": {
  "kernelspec": {
   "display_name": "Python 3",
   "language": "python",
   "name": "python3"
  },
  "language_info": {
   "codemirror_mode": {
    "name": "ipython",
    "version": 3
   },
   "file_extension": ".py",
   "mimetype": "text/x-python",
   "name": "python",
   "nbconvert_exporter": "python",
   "pygments_lexer": "ipython3",
   "version": "3.8.3"
  }
 },
 "nbformat": 4,
 "nbformat_minor": 4
}
